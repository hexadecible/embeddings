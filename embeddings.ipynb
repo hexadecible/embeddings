{
 "cells": [
  {
   "cell_type": "code",
   "execution_count": 2,
   "metadata": {},
   "outputs": [
    {
     "name": "stdout",
     "output_type": "stream",
     "text": [
      "Requirement already satisfied: chromadb in /Users/garethharte/.pyenv/versions/3.10.13/lib/python3.10/site-packages (0.4.14)\n",
      "Requirement already satisfied: overrides>=7.3.1 in /Users/garethharte/.pyenv/versions/3.10.13/lib/python3.10/site-packages (from chromadb) (7.4.0)\n",
      "Requirement already satisfied: posthog>=2.4.0 in /Users/garethharte/.pyenv/versions/3.10.13/lib/python3.10/site-packages (from chromadb) (3.0.2)\n",
      "Requirement already satisfied: tokenizers>=0.13.2 in /Users/garethharte/.pyenv/versions/3.10.13/lib/python3.10/site-packages (from chromadb) (0.14.0)\n",
      "Requirement already satisfied: requests>=2.28 in /Users/garethharte/.pyenv/versions/3.10.13/lib/python3.10/site-packages (from chromadb) (2.31.0)\n",
      "Requirement already satisfied: tqdm>=4.65.0 in /Users/garethharte/.pyenv/versions/3.10.13/lib/python3.10/site-packages (from chromadb) (4.66.1)\n",
      "Requirement already satisfied: bcrypt>=4.0.1 in /Users/garethharte/.pyenv/versions/3.10.13/lib/python3.10/site-packages (from chromadb) (4.0.1)\n",
      "Requirement already satisfied: typing-extensions>=4.5.0 in /Users/garethharte/.pyenv/versions/3.10.13/lib/python3.10/site-packages (from chromadb) (4.8.0)\n",
      "Requirement already satisfied: importlib-resources in /Users/garethharte/.pyenv/versions/3.10.13/lib/python3.10/site-packages (from chromadb) (6.1.0)\n",
      "Requirement already satisfied: pydantic>=1.9 in /Users/garethharte/.pyenv/versions/3.10.13/lib/python3.10/site-packages (from chromadb) (1.10.13)\n",
      "Requirement already satisfied: uvicorn[standard]>=0.18.3 in /Users/garethharte/.pyenv/versions/3.10.13/lib/python3.10/site-packages (from chromadb) (0.23.2)\n",
      "Requirement already satisfied: numpy>=1.22.5 in /Users/garethharte/.pyenv/versions/3.10.13/lib/python3.10/site-packages (from chromadb) (1.26.0)\n",
      "Requirement already satisfied: typer>=0.9.0 in /Users/garethharte/.pyenv/versions/3.10.13/lib/python3.10/site-packages (from chromadb) (0.9.0)\n",
      "Requirement already satisfied: pulsar-client>=3.1.0 in /Users/garethharte/.pyenv/versions/3.10.13/lib/python3.10/site-packages (from chromadb) (3.3.0)\n",
      "Requirement already satisfied: grpcio>=1.58.0 in /Users/garethharte/.pyenv/versions/3.10.13/lib/python3.10/site-packages (from chromadb) (1.59.0)\n",
      "Requirement already satisfied: fastapi>=0.95.2 in /Users/garethharte/.pyenv/versions/3.10.13/lib/python3.10/site-packages (from chromadb) (0.103.2)\n",
      "Requirement already satisfied: pypika>=0.48.9 in /Users/garethharte/.pyenv/versions/3.10.13/lib/python3.10/site-packages (from chromadb) (0.48.9)\n",
      "Requirement already satisfied: onnxruntime>=1.14.1 in /Users/garethharte/.pyenv/versions/3.10.13/lib/python3.10/site-packages (from chromadb) (1.16.0)\n",
      "Requirement already satisfied: chroma-hnswlib==0.7.3 in /Users/garethharte/.pyenv/versions/3.10.13/lib/python3.10/site-packages (from chromadb) (0.7.3)\n",
      "Requirement already satisfied: anyio<4.0.0,>=3.7.1 in /Users/garethharte/.pyenv/versions/3.10.13/lib/python3.10/site-packages (from fastapi>=0.95.2->chromadb) (3.7.1)\n",
      "Requirement already satisfied: starlette<0.28.0,>=0.27.0 in /Users/garethharte/.pyenv/versions/3.10.13/lib/python3.10/site-packages (from fastapi>=0.95.2->chromadb) (0.27.0)\n",
      "Requirement already satisfied: protobuf in /Users/garethharte/.pyenv/versions/3.10.13/lib/python3.10/site-packages (from onnxruntime>=1.14.1->chromadb) (3.20.3)\n",
      "Requirement already satisfied: sympy in /Users/garethharte/.pyenv/versions/3.10.13/lib/python3.10/site-packages (from onnxruntime>=1.14.1->chromadb) (1.12)\n",
      "Requirement already satisfied: coloredlogs in /Users/garethharte/.pyenv/versions/3.10.13/lib/python3.10/site-packages (from onnxruntime>=1.14.1->chromadb) (15.0.1)\n",
      "Requirement already satisfied: flatbuffers in /Users/garethharte/.pyenv/versions/3.10.13/lib/python3.10/site-packages (from onnxruntime>=1.14.1->chromadb) (23.5.26)\n",
      "Requirement already satisfied: packaging in /Users/garethharte/.pyenv/versions/3.10.13/lib/python3.10/site-packages (from onnxruntime>=1.14.1->chromadb) (23.1)\n",
      "Requirement already satisfied: monotonic>=1.5 in /Users/garethharte/.pyenv/versions/3.10.13/lib/python3.10/site-packages (from posthog>=2.4.0->chromadb) (1.6)\n",
      "Requirement already satisfied: backoff>=1.10.0 in /Users/garethharte/.pyenv/versions/3.10.13/lib/python3.10/site-packages (from posthog>=2.4.0->chromadb) (2.2.1)\n",
      "Requirement already satisfied: six>=1.5 in /Users/garethharte/.pyenv/versions/3.10.13/lib/python3.10/site-packages (from posthog>=2.4.0->chromadb) (1.16.0)\n",
      "Requirement already satisfied: python-dateutil>2.1 in /Users/garethharte/.pyenv/versions/3.10.13/lib/python3.10/site-packages (from posthog>=2.4.0->chromadb) (2.8.2)\n",
      "Requirement already satisfied: certifi in /Users/garethharte/.pyenv/versions/3.10.13/lib/python3.10/site-packages (from pulsar-client>=3.1.0->chromadb) (2023.7.22)\n",
      "Requirement already satisfied: charset-normalizer<4,>=2 in /Users/garethharte/.pyenv/versions/3.10.13/lib/python3.10/site-packages (from requests>=2.28->chromadb) (3.2.0)\n",
      "Requirement already satisfied: idna<4,>=2.5 in /Users/garethharte/.pyenv/versions/3.10.13/lib/python3.10/site-packages (from requests>=2.28->chromadb) (3.4)\n",
      "Requirement already satisfied: urllib3<3,>=1.21.1 in /Users/garethharte/.pyenv/versions/3.10.13/lib/python3.10/site-packages (from requests>=2.28->chromadb) (1.26.17)\n",
      "Requirement already satisfied: huggingface_hub<0.17,>=0.16.4 in /Users/garethharte/.pyenv/versions/3.10.13/lib/python3.10/site-packages (from tokenizers>=0.13.2->chromadb) (0.16.4)\n",
      "Requirement already satisfied: click<9.0.0,>=7.1.1 in /Users/garethharte/.pyenv/versions/3.10.13/lib/python3.10/site-packages (from typer>=0.9.0->chromadb) (8.1.7)\n",
      "Requirement already satisfied: h11>=0.8 in /Users/garethharte/.pyenv/versions/3.10.13/lib/python3.10/site-packages (from uvicorn[standard]>=0.18.3->chromadb) (0.14.0)\n",
      "Requirement already satisfied: pyyaml>=5.1 in /Users/garethharte/.pyenv/versions/3.10.13/lib/python3.10/site-packages (from uvicorn[standard]>=0.18.3->chromadb) (6.0.1)\n",
      "Requirement already satisfied: websockets>=10.4 in /Users/garethharte/.pyenv/versions/3.10.13/lib/python3.10/site-packages (from uvicorn[standard]>=0.18.3->chromadb) (10.4)\n",
      "Requirement already satisfied: httptools>=0.5.0 in /Users/garethharte/.pyenv/versions/3.10.13/lib/python3.10/site-packages (from uvicorn[standard]>=0.18.3->chromadb) (0.6.0)\n",
      "Requirement already satisfied: watchfiles>=0.13 in /Users/garethharte/.pyenv/versions/3.10.13/lib/python3.10/site-packages (from uvicorn[standard]>=0.18.3->chromadb) (0.20.0)\n",
      "Requirement already satisfied: uvloop!=0.15.0,!=0.15.1,>=0.14.0 in /Users/garethharte/.pyenv/versions/3.10.13/lib/python3.10/site-packages (from uvicorn[standard]>=0.18.3->chromadb) (0.17.0)\n",
      "Requirement already satisfied: python-dotenv>=0.13 in /Users/garethharte/.pyenv/versions/3.10.13/lib/python3.10/site-packages (from uvicorn[standard]>=0.18.3->chromadb) (1.0.0)\n",
      "Requirement already satisfied: exceptiongroup in /Users/garethharte/.pyenv/versions/3.10.13/lib/python3.10/site-packages (from anyio<4.0.0,>=3.7.1->fastapi>=0.95.2->chromadb) (1.1.3)\n",
      "Requirement already satisfied: sniffio>=1.1 in /Users/garethharte/.pyenv/versions/3.10.13/lib/python3.10/site-packages (from anyio<4.0.0,>=3.7.1->fastapi>=0.95.2->chromadb) (1.3.0)\n",
      "Requirement already satisfied: fsspec in /Users/garethharte/.pyenv/versions/3.10.13/lib/python3.10/site-packages (from huggingface_hub<0.17,>=0.16.4->tokenizers>=0.13.2->chromadb) (2023.9.1)\n",
      "Requirement already satisfied: filelock in /Users/garethharte/.pyenv/versions/3.10.13/lib/python3.10/site-packages (from huggingface_hub<0.17,>=0.16.4->tokenizers>=0.13.2->chromadb) (3.12.4)\n",
      "Requirement already satisfied: humanfriendly>=9.1 in /Users/garethharte/.pyenv/versions/3.10.13/lib/python3.10/site-packages (from coloredlogs->onnxruntime>=1.14.1->chromadb) (10.0)\n",
      "Requirement already satisfied: mpmath>=0.19 in /Users/garethharte/.pyenv/versions/3.10.13/lib/python3.10/site-packages (from sympy->onnxruntime>=1.14.1->chromadb) (1.3.0)\n",
      "\n",
      "\u001b[1m[\u001b[0m\u001b[34;49mnotice\u001b[0m\u001b[1;39;49m]\u001b[0m\u001b[39;49m A new release of pip is available: \u001b[0m\u001b[31;49m23.0.1\u001b[0m\u001b[39;49m -> \u001b[0m\u001b[32;49m23.3.1\u001b[0m\n",
      "\u001b[1m[\u001b[0m\u001b[34;49mnotice\u001b[0m\u001b[1;39;49m]\u001b[0m\u001b[39;49m To update, run: \u001b[0m\u001b[32;49mpip install --upgrade pip\u001b[0m\n",
      "Requirement already satisfied: langchain in /Users/garethharte/.pyenv/versions/3.10.13/lib/python3.10/site-packages (0.0.308)\n",
      "Requirement already satisfied: unstructured[pdf] in /Users/garethharte/.pyenv/versions/3.10.13/lib/python3.10/site-packages (0.10.19)\n",
      "Requirement already satisfied: sentence_transformers in /Users/garethharte/.pyenv/versions/3.10.13/lib/python3.10/site-packages (2.2.2)\n",
      "Requirement already satisfied: SQLAlchemy<3,>=1.4 in /Users/garethharte/.pyenv/versions/3.10.13/lib/python3.10/site-packages (from langchain) (1.4.41)\n",
      "Requirement already satisfied: PyYAML>=5.3 in /Users/garethharte/.pyenv/versions/3.10.13/lib/python3.10/site-packages (from langchain) (6.0.1)\n",
      "Requirement already satisfied: tenacity<9.0.0,>=8.1.0 in /Users/garethharte/.pyenv/versions/3.10.13/lib/python3.10/site-packages (from langchain) (8.2.3)\n",
      "Requirement already satisfied: async-timeout<5.0.0,>=4.0.0 in /Users/garethharte/.pyenv/versions/3.10.13/lib/python3.10/site-packages (from langchain) (4.0.3)\n",
      "Requirement already satisfied: numpy<2,>=1 in /Users/garethharte/.pyenv/versions/3.10.13/lib/python3.10/site-packages (from langchain) (1.26.0)\n",
      "Requirement already satisfied: dataclasses-json<0.7,>=0.5.7 in /Users/garethharte/.pyenv/versions/3.10.13/lib/python3.10/site-packages (from langchain) (0.5.14)\n",
      "Requirement already satisfied: langsmith<0.1.0,>=0.0.40 in /Users/garethharte/.pyenv/versions/3.10.13/lib/python3.10/site-packages (from langchain) (0.0.43)\n",
      "Requirement already satisfied: requests<3,>=2 in /Users/garethharte/.pyenv/versions/3.10.13/lib/python3.10/site-packages (from langchain) (2.31.0)\n",
      "Requirement already satisfied: jsonpatch<2.0,>=1.33 in /Users/garethharte/.pyenv/versions/3.10.13/lib/python3.10/site-packages (from langchain) (1.33)\n",
      "Requirement already satisfied: pydantic<3,>=1 in /Users/garethharte/.pyenv/versions/3.10.13/lib/python3.10/site-packages (from langchain) (1.10.13)\n",
      "Requirement already satisfied: anyio<4.0 in /Users/garethharte/.pyenv/versions/3.10.13/lib/python3.10/site-packages (from langchain) (3.7.1)\n",
      "Requirement already satisfied: aiohttp<4.0.0,>=3.8.3 in /Users/garethharte/.pyenv/versions/3.10.13/lib/python3.10/site-packages (from langchain) (3.8.5)\n",
      "Requirement already satisfied: emoji in /Users/garethharte/.pyenv/versions/3.10.13/lib/python3.10/site-packages (from unstructured[pdf]) (2.8.0)\n",
      "Requirement already satisfied: python-iso639 in /Users/garethharte/.pyenv/versions/3.10.13/lib/python3.10/site-packages (from unstructured[pdf]) (2023.6.15)\n",
      "Requirement already satisfied: beautifulsoup4 in /Users/garethharte/.pyenv/versions/3.10.13/lib/python3.10/site-packages (from unstructured[pdf]) (4.12.2)\n",
      "Requirement already satisfied: filetype in /Users/garethharte/.pyenv/versions/3.10.13/lib/python3.10/site-packages (from unstructured[pdf]) (1.2.0)\n",
      "Requirement already satisfied: chardet in /Users/garethharte/.pyenv/versions/3.10.13/lib/python3.10/site-packages (from unstructured[pdf]) (5.2.0)\n",
      "Requirement already satisfied: nltk in /Users/garethharte/.pyenv/versions/3.10.13/lib/python3.10/site-packages (from unstructured[pdf]) (3.8.1)\n",
      "Requirement already satisfied: python-magic in /Users/garethharte/.pyenv/versions/3.10.13/lib/python3.10/site-packages (from unstructured[pdf]) (0.4.27)\n",
      "Requirement already satisfied: lxml in /Users/garethharte/.pyenv/versions/3.10.13/lib/python3.10/site-packages (from unstructured[pdf]) (4.9.3)\n",
      "Requirement already satisfied: langdetect in /Users/garethharte/.pyenv/versions/3.10.13/lib/python3.10/site-packages (from unstructured[pdf]) (1.0.9)\n",
      "Requirement already satisfied: tabulate in /Users/garethharte/.pyenv/versions/3.10.13/lib/python3.10/site-packages (from unstructured[pdf]) (0.9.0)\n",
      "Requirement already satisfied: unstructured-inference==0.6.6 in /Users/garethharte/.pyenv/versions/3.10.13/lib/python3.10/site-packages (from unstructured[pdf]) (0.6.6)\n",
      "Requirement already satisfied: pdfminer.six in /Users/garethharte/.pyenv/versions/3.10.13/lib/python3.10/site-packages (from unstructured[pdf]) (20221105)\n",
      "Requirement already satisfied: pdf2image in /Users/garethharte/.pyenv/versions/3.10.13/lib/python3.10/site-packages (from unstructured[pdf]) (1.16.3)\n",
      "Requirement already satisfied: unstructured.pytesseract>=0.3.12 in /Users/garethharte/.pyenv/versions/3.10.13/lib/python3.10/site-packages (from unstructured[pdf]) (0.3.12)\n",
      "Requirement already satisfied: python-multipart in /Users/garethharte/.pyenv/versions/3.10.13/lib/python3.10/site-packages (from unstructured-inference==0.6.6->unstructured[pdf]) (0.0.6)\n",
      "Requirement already satisfied: rapidfuzz in /Users/garethharte/.pyenv/versions/3.10.13/lib/python3.10/site-packages (from unstructured-inference==0.6.6->unstructured[pdf]) (3.4.0)\n",
      "Requirement already satisfied: transformers>=4.25.1 in /Users/garethharte/.pyenv/versions/3.10.13/lib/python3.10/site-packages (from unstructured-inference==0.6.6->unstructured[pdf]) (4.34.0)\n",
      "Requirement already satisfied: onnxruntime in /Users/garethharte/.pyenv/versions/3.10.13/lib/python3.10/site-packages (from unstructured-inference==0.6.6->unstructured[pdf]) (1.16.0)\n",
      "Requirement already satisfied: huggingface-hub in /Users/garethharte/.pyenv/versions/3.10.13/lib/python3.10/site-packages (from unstructured-inference==0.6.6->unstructured[pdf]) (0.16.4)\n",
      "Requirement already satisfied: opencv-python!=4.7.0.68 in /Users/garethharte/.pyenv/versions/3.10.13/lib/python3.10/site-packages (from unstructured-inference==0.6.6->unstructured[pdf]) (4.8.1.78)\n",
      "Requirement already satisfied: onnx==1.14.1 in /Users/garethharte/.pyenv/versions/3.10.13/lib/python3.10/site-packages (from unstructured-inference==0.6.6->unstructured[pdf]) (1.14.1)\n",
      "Requirement already satisfied: layoutparser[layoutmodels,tesseract] in /Users/garethharte/.pyenv/versions/3.10.13/lib/python3.10/site-packages (from unstructured-inference==0.6.6->unstructured[pdf]) (0.3.4)\n",
      "Requirement already satisfied: typing-extensions>=3.6.2.1 in /Users/garethharte/.pyenv/versions/3.10.13/lib/python3.10/site-packages (from onnx==1.14.1->unstructured-inference==0.6.6->unstructured[pdf]) (4.8.0)\n",
      "Requirement already satisfied: protobuf>=3.20.2 in /Users/garethharte/.pyenv/versions/3.10.13/lib/python3.10/site-packages (from onnx==1.14.1->unstructured-inference==0.6.6->unstructured[pdf]) (3.20.3)\n",
      "Requirement already satisfied: scipy in /Users/garethharte/.pyenv/versions/3.10.13/lib/python3.10/site-packages (from sentence_transformers) (1.11.3)\n",
      "Requirement already satisfied: tqdm in /Users/garethharte/.pyenv/versions/3.10.13/lib/python3.10/site-packages (from sentence_transformers) (4.66.1)\n",
      "Requirement already satisfied: sentencepiece in /Users/garethharte/.pyenv/versions/3.10.13/lib/python3.10/site-packages (from sentence_transformers) (0.1.99)\n",
      "Requirement already satisfied: torchvision in /Users/garethharte/.pyenv/versions/3.10.13/lib/python3.10/site-packages (from sentence_transformers) (0.16.0)\n",
      "Requirement already satisfied: torch>=1.6.0 in /Users/garethharte/.pyenv/versions/3.10.13/lib/python3.10/site-packages (from sentence_transformers) (2.1.0)\n",
      "Requirement already satisfied: scikit-learn in /Users/garethharte/.pyenv/versions/3.10.13/lib/python3.10/site-packages (from sentence_transformers) (1.3.1)\n",
      "Requirement already satisfied: charset-normalizer<4.0,>=2.0 in /Users/garethharte/.pyenv/versions/3.10.13/lib/python3.10/site-packages (from aiohttp<4.0.0,>=3.8.3->langchain) (3.2.0)\n",
      "Requirement already satisfied: frozenlist>=1.1.1 in /Users/garethharte/.pyenv/versions/3.10.13/lib/python3.10/site-packages (from aiohttp<4.0.0,>=3.8.3->langchain) (1.4.0)\n",
      "Requirement already satisfied: multidict<7.0,>=4.5 in /Users/garethharte/.pyenv/versions/3.10.13/lib/python3.10/site-packages (from aiohttp<4.0.0,>=3.8.3->langchain) (6.0.4)\n",
      "Requirement already satisfied: aiosignal>=1.1.2 in /Users/garethharte/.pyenv/versions/3.10.13/lib/python3.10/site-packages (from aiohttp<4.0.0,>=3.8.3->langchain) (1.3.1)\n",
      "Requirement already satisfied: yarl<2.0,>=1.0 in /Users/garethharte/.pyenv/versions/3.10.13/lib/python3.10/site-packages (from aiohttp<4.0.0,>=3.8.3->langchain) (1.9.2)\n",
      "Requirement already satisfied: attrs>=17.3.0 in /Users/garethharte/.pyenv/versions/3.10.13/lib/python3.10/site-packages (from aiohttp<4.0.0,>=3.8.3->langchain) (23.1.0)\n",
      "Requirement already satisfied: sniffio>=1.1 in /Users/garethharte/.pyenv/versions/3.10.13/lib/python3.10/site-packages (from anyio<4.0->langchain) (1.3.0)\n",
      "Requirement already satisfied: exceptiongroup in /Users/garethharte/.pyenv/versions/3.10.13/lib/python3.10/site-packages (from anyio<4.0->langchain) (1.1.3)\n",
      "Requirement already satisfied: idna>=2.8 in /Users/garethharte/.pyenv/versions/3.10.13/lib/python3.10/site-packages (from anyio<4.0->langchain) (3.4)\n",
      "Requirement already satisfied: typing-inspect<1,>=0.4.0 in /Users/garethharte/.pyenv/versions/3.10.13/lib/python3.10/site-packages (from dataclasses-json<0.7,>=0.5.7->langchain) (0.9.0)\n",
      "Requirement already satisfied: marshmallow<4.0.0,>=3.18.0 in /Users/garethharte/.pyenv/versions/3.10.13/lib/python3.10/site-packages (from dataclasses-json<0.7,>=0.5.7->langchain) (3.20.1)\n",
      "Requirement already satisfied: packaging>=20.9 in /Users/garethharte/.pyenv/versions/3.10.13/lib/python3.10/site-packages (from huggingface-hub->unstructured-inference==0.6.6->unstructured[pdf]) (23.1)\n",
      "Requirement already satisfied: filelock in /Users/garethharte/.pyenv/versions/3.10.13/lib/python3.10/site-packages (from huggingface-hub->unstructured-inference==0.6.6->unstructured[pdf]) (3.12.4)\n",
      "Requirement already satisfied: fsspec in /Users/garethharte/.pyenv/versions/3.10.13/lib/python3.10/site-packages (from huggingface-hub->unstructured-inference==0.6.6->unstructured[pdf]) (2023.9.1)\n",
      "Requirement already satisfied: jsonpointer>=1.9 in /Users/garethharte/.pyenv/versions/3.10.13/lib/python3.10/site-packages (from jsonpatch<2.0,>=1.33->langchain) (2.4)\n",
      "Requirement already satisfied: certifi>=2017.4.17 in /Users/garethharte/.pyenv/versions/3.10.13/lib/python3.10/site-packages (from requests<3,>=2->langchain) (2023.7.22)\n",
      "Requirement already satisfied: urllib3<3,>=1.21.1 in /Users/garethharte/.pyenv/versions/3.10.13/lib/python3.10/site-packages (from requests<3,>=2->langchain) (1.26.17)\n",
      "Requirement already satisfied: greenlet!=0.4.17 in /Users/garethharte/.pyenv/versions/3.10.13/lib/python3.10/site-packages (from SQLAlchemy<3,>=1.4->langchain) (2.0.2)\n",
      "Requirement already satisfied: networkx in /Users/garethharte/.pyenv/versions/3.10.13/lib/python3.10/site-packages (from torch>=1.6.0->sentence_transformers) (3.1)\n",
      "Requirement already satisfied: sympy in /Users/garethharte/.pyenv/versions/3.10.13/lib/python3.10/site-packages (from torch>=1.6.0->sentence_transformers) (1.12)\n",
      "Requirement already satisfied: jinja2 in /Users/garethharte/.pyenv/versions/3.10.13/lib/python3.10/site-packages (from torch>=1.6.0->sentence_transformers) (3.1.2)\n",
      "Requirement already satisfied: safetensors>=0.3.1 in /Users/garethharte/.pyenv/versions/3.10.13/lib/python3.10/site-packages (from transformers>=4.25.1->unstructured-inference==0.6.6->unstructured[pdf]) (0.3.3)\n",
      "Requirement already satisfied: regex!=2019.12.17 in /Users/garethharte/.pyenv/versions/3.10.13/lib/python3.10/site-packages (from transformers>=4.25.1->unstructured-inference==0.6.6->unstructured[pdf]) (2023.10.3)\n",
      "Requirement already satisfied: tokenizers<0.15,>=0.14 in /Users/garethharte/.pyenv/versions/3.10.13/lib/python3.10/site-packages (from transformers>=4.25.1->unstructured-inference==0.6.6->unstructured[pdf]) (0.14.0)\n",
      "Requirement already satisfied: Pillow>=8.0.0 in /Users/garethharte/.pyenv/versions/3.10.13/lib/python3.10/site-packages (from unstructured.pytesseract>=0.3.12->unstructured[pdf]) (10.0.1)\n",
      "Requirement already satisfied: soupsieve>1.2 in /Users/garethharte/.pyenv/versions/3.10.13/lib/python3.10/site-packages (from beautifulsoup4->unstructured[pdf]) (2.5)\n",
      "Requirement already satisfied: six in /Users/garethharte/.pyenv/versions/3.10.13/lib/python3.10/site-packages (from langdetect->unstructured[pdf]) (1.16.0)\n",
      "Requirement already satisfied: joblib in /Users/garethharte/.pyenv/versions/3.10.13/lib/python3.10/site-packages (from nltk->unstructured[pdf]) (1.3.2)\n",
      "Requirement already satisfied: click in /Users/garethharte/.pyenv/versions/3.10.13/lib/python3.10/site-packages (from nltk->unstructured[pdf]) (8.1.7)\n",
      "Requirement already satisfied: cryptography>=36.0.0 in /Users/garethharte/.pyenv/versions/3.10.13/lib/python3.10/site-packages (from pdfminer.six->unstructured[pdf]) (41.0.4)\n",
      "Requirement already satisfied: threadpoolctl>=2.0.0 in /Users/garethharte/.pyenv/versions/3.10.13/lib/python3.10/site-packages (from scikit-learn->sentence_transformers) (3.2.0)\n",
      "Requirement already satisfied: cffi>=1.12 in /Users/garethharte/.pyenv/versions/3.10.13/lib/python3.10/site-packages (from cryptography>=36.0.0->pdfminer.six->unstructured[pdf]) (1.16.0)\n",
      "Requirement already satisfied: mypy-extensions>=0.3.0 in /Users/garethharte/.pyenv/versions/3.10.13/lib/python3.10/site-packages (from typing-inspect<1,>=0.4.0->dataclasses-json<0.7,>=0.5.7->langchain) (1.0.0)\n",
      "Requirement already satisfied: MarkupSafe>=2.0 in /Users/garethharte/.pyenv/versions/3.10.13/lib/python3.10/site-packages (from jinja2->torch>=1.6.0->sentence_transformers) (2.1.3)\n",
      "Requirement already satisfied: pandas in /Users/garethharte/.pyenv/versions/3.10.13/lib/python3.10/site-packages (from layoutparser[layoutmodels,tesseract]->unstructured-inference==0.6.6->unstructured[pdf]) (2.0.3)\n",
      "Requirement already satisfied: pdfplumber in /Users/garethharte/.pyenv/versions/3.10.13/lib/python3.10/site-packages (from layoutparser[layoutmodels,tesseract]->unstructured-inference==0.6.6->unstructured[pdf]) (0.10.2)\n",
      "Requirement already satisfied: iopath in /Users/garethharte/.pyenv/versions/3.10.13/lib/python3.10/site-packages (from layoutparser[layoutmodels,tesseract]->unstructured-inference==0.6.6->unstructured[pdf]) (0.1.10)\n",
      "Requirement already satisfied: pytesseract in /Users/garethharte/.pyenv/versions/3.10.13/lib/python3.10/site-packages (from layoutparser[layoutmodels,tesseract]->unstructured-inference==0.6.6->unstructured[pdf]) (0.3.10)\n",
      "Requirement already satisfied: effdet in /Users/garethharte/.pyenv/versions/3.10.13/lib/python3.10/site-packages (from layoutparser[layoutmodels,tesseract]->unstructured-inference==0.6.6->unstructured[pdf]) (0.4.1)\n",
      "Requirement already satisfied: flatbuffers in /Users/garethharte/.pyenv/versions/3.10.13/lib/python3.10/site-packages (from onnxruntime->unstructured-inference==0.6.6->unstructured[pdf]) (23.5.26)\n",
      "Requirement already satisfied: coloredlogs in /Users/garethharte/.pyenv/versions/3.10.13/lib/python3.10/site-packages (from onnxruntime->unstructured-inference==0.6.6->unstructured[pdf]) (15.0.1)\n",
      "Requirement already satisfied: mpmath>=0.19 in /Users/garethharte/.pyenv/versions/3.10.13/lib/python3.10/site-packages (from sympy->torch>=1.6.0->sentence_transformers) (1.3.0)\n",
      "Requirement already satisfied: pycparser in /Users/garethharte/.pyenv/versions/3.10.13/lib/python3.10/site-packages (from cffi>=1.12->cryptography>=36.0.0->pdfminer.six->unstructured[pdf]) (2.21)\n",
      "Requirement already satisfied: humanfriendly>=9.1 in /Users/garethharte/.pyenv/versions/3.10.13/lib/python3.10/site-packages (from coloredlogs->onnxruntime->unstructured-inference==0.6.6->unstructured[pdf]) (10.0)\n",
      "Requirement already satisfied: pycocotools>=2.0.2 in /Users/garethharte/.pyenv/versions/3.10.13/lib/python3.10/site-packages (from effdet->layoutparser[layoutmodels,tesseract]->unstructured-inference==0.6.6->unstructured[pdf]) (2.0.7)\n",
      "Requirement already satisfied: omegaconf>=2.0 in /Users/garethharte/.pyenv/versions/3.10.13/lib/python3.10/site-packages (from effdet->layoutparser[layoutmodels,tesseract]->unstructured-inference==0.6.6->unstructured[pdf]) (2.3.0)\n",
      "Requirement already satisfied: timm>=0.9.2 in /Users/garethharte/.pyenv/versions/3.10.13/lib/python3.10/site-packages (from effdet->layoutparser[layoutmodels,tesseract]->unstructured-inference==0.6.6->unstructured[pdf]) (0.9.7)\n",
      "Requirement already satisfied: portalocker in /Users/garethharte/.pyenv/versions/3.10.13/lib/python3.10/site-packages (from iopath->layoutparser[layoutmodels,tesseract]->unstructured-inference==0.6.6->unstructured[pdf]) (2.8.2)\n",
      "Requirement already satisfied: python-dateutil>=2.8.2 in /Users/garethharte/.pyenv/versions/3.10.13/lib/python3.10/site-packages (from pandas->layoutparser[layoutmodels,tesseract]->unstructured-inference==0.6.6->unstructured[pdf]) (2.8.2)\n",
      "Requirement already satisfied: pytz>=2020.1 in /Users/garethharte/.pyenv/versions/3.10.13/lib/python3.10/site-packages (from pandas->layoutparser[layoutmodels,tesseract]->unstructured-inference==0.6.6->unstructured[pdf]) (2023.3.post1)\n",
      "Requirement already satisfied: tzdata>=2022.1 in /Users/garethharte/.pyenv/versions/3.10.13/lib/python3.10/site-packages (from pandas->layoutparser[layoutmodels,tesseract]->unstructured-inference==0.6.6->unstructured[pdf]) (2023.3)\n",
      "Requirement already satisfied: pypdfium2>=4.18.0 in /Users/garethharte/.pyenv/versions/3.10.13/lib/python3.10/site-packages (from pdfplumber->layoutparser[layoutmodels,tesseract]->unstructured-inference==0.6.6->unstructured[pdf]) (4.20.0)\n",
      "Requirement already satisfied: antlr4-python3-runtime==4.9.* in /Users/garethharte/.pyenv/versions/3.10.13/lib/python3.10/site-packages (from omegaconf>=2.0->effdet->layoutparser[layoutmodels,tesseract]->unstructured-inference==0.6.6->unstructured[pdf]) (4.9.3)\n",
      "Requirement already satisfied: matplotlib>=2.1.0 in /Users/garethharte/.pyenv/versions/3.10.13/lib/python3.10/site-packages (from pycocotools>=2.0.2->effdet->layoutparser[layoutmodels,tesseract]->unstructured-inference==0.6.6->unstructured[pdf]) (3.8.0)\n",
      "Requirement already satisfied: pyparsing>=2.3.1 in /Users/garethharte/.pyenv/versions/3.10.13/lib/python3.10/site-packages (from matplotlib>=2.1.0->pycocotools>=2.0.2->effdet->layoutparser[layoutmodels,tesseract]->unstructured-inference==0.6.6->unstructured[pdf]) (3.1.1)\n",
      "Requirement already satisfied: kiwisolver>=1.0.1 in /Users/garethharte/.pyenv/versions/3.10.13/lib/python3.10/site-packages (from matplotlib>=2.1.0->pycocotools>=2.0.2->effdet->layoutparser[layoutmodels,tesseract]->unstructured-inference==0.6.6->unstructured[pdf]) (1.4.5)\n",
      "Requirement already satisfied: contourpy>=1.0.1 in /Users/garethharte/.pyenv/versions/3.10.13/lib/python3.10/site-packages (from matplotlib>=2.1.0->pycocotools>=2.0.2->effdet->layoutparser[layoutmodels,tesseract]->unstructured-inference==0.6.6->unstructured[pdf]) (1.1.1)\n",
      "Requirement already satisfied: fonttools>=4.22.0 in /Users/garethharte/.pyenv/versions/3.10.13/lib/python3.10/site-packages (from matplotlib>=2.1.0->pycocotools>=2.0.2->effdet->layoutparser[layoutmodels,tesseract]->unstructured-inference==0.6.6->unstructured[pdf]) (4.42.1)\n",
      "Requirement already satisfied: cycler>=0.10 in /Users/garethharte/.pyenv/versions/3.10.13/lib/python3.10/site-packages (from matplotlib>=2.1.0->pycocotools>=2.0.2->effdet->layoutparser[layoutmodels,tesseract]->unstructured-inference==0.6.6->unstructured[pdf]) (0.11.0)\n",
      "\n",
      "\u001b[1m[\u001b[0m\u001b[34;49mnotice\u001b[0m\u001b[1;39;49m]\u001b[0m\u001b[39;49m A new release of pip is available: \u001b[0m\u001b[31;49m23.0.1\u001b[0m\u001b[39;49m -> \u001b[0m\u001b[32;49m23.3.1\u001b[0m\n",
      "\u001b[1m[\u001b[0m\u001b[34;49mnotice\u001b[0m\u001b[1;39;49m]\u001b[0m\u001b[39;49m To update, run: \u001b[0m\u001b[32;49mpip install --upgrade pip\u001b[0m\n"
     ]
    }
   ],
   "source": [
    "!pip3 install chromadb\n",
    "!pip3 install langchain \"unstructured[pdf]\" sentence_transformers"
   ]
  },
  {
   "cell_type": "markdown",
   "metadata": {},
   "source": [
    "### Load the Documents\n",
    "\n",
    "Here we use Langchain to load all documents from our `./docs` directory. More info on how this works can be found on [Langhchain's website](https://python.langchain.com/docs/modules/data_connection/document_loaders/file_directory)"
   ]
  },
  {
   "cell_type": "code",
   "execution_count": 3,
   "metadata": {},
   "outputs": [
    {
     "data": {
      "text/plain": [
       "1"
      ]
     },
     "execution_count": 3,
     "metadata": {},
     "output_type": "execute_result"
    }
   ],
   "source": [
    "from langchain.document_loaders import DirectoryLoader\n",
    "directory = './docs'\n",
    "\n",
    "def load_docs(directory):\n",
    "  loader = DirectoryLoader(directory)\n",
    "  documents = loader.load()\n",
    "  return documents\n",
    "\n",
    "documents = load_docs(directory)\n",
    "len(documents)"
   ]
  },
  {
   "cell_type": "markdown",
   "metadata": {},
   "source": [
    "### Chunking the Documents\n",
    "\n",
    "Here we chunk the document's contents from which embeddings will be generated. You can experiment with the `chunk_size` and `chunk_overlap` to fit your use case."
   ]
  },
  {
   "cell_type": "code",
   "execution_count": 4,
   "metadata": {},
   "outputs": [
    {
     "name": "stdout",
     "output_type": "stream",
     "text": [
      "8\n"
     ]
    }
   ],
   "source": [
    "from langchain.text_splitter import RecursiveCharacterTextSplitter\n",
    "\n",
    "def split_docs(documents,chunk_size=1000,chunk_overlap=100):\n",
    "  text_splitter = RecursiveCharacterTextSplitter(chunk_size=chunk_size, chunk_overlap=chunk_overlap)\n",
    "  docs = text_splitter.split_documents(documents)\n",
    "  return docs\n",
    "\n",
    "docs = split_docs(documents)\n",
    "print(len(docs))"
   ]
  },
  {
   "cell_type": "markdown",
   "metadata": {},
   "source": [
    "### Choose Your Embedding Model\n",
    "\n",
    "Here we're using `BAAI/bge-small-en` as our model, but this can be swapped out with any one of the BGE models from the [BGE Model List](https://huggingface.co/BAAI/bge-large-en)"
   ]
  },
  {
   "cell_type": "code",
   "execution_count": 5,
   "metadata": {},
   "outputs": [
    {
     "name": "stderr",
     "output_type": "stream",
     "text": [
      "/Users/garethharte/.pyenv/versions/3.10.13/lib/python3.10/site-packages/tqdm/auto.py:21: TqdmWarning: IProgress not found. Please update jupyter and ipywidgets. See https://ipywidgets.readthedocs.io/en/stable/user_install.html\n",
      "  from .autonotebook import tqdm as notebook_tqdm\n"
     ]
    }
   ],
   "source": [
    "# Example of using Setence Transformers instead of BGE models\n",
    "# from langchain.embeddings import SentenceTransformerEmbeddings\n",
    "# embeddings = SentenceTransformerEmbeddings(model_name=\"instructor-large\")\n",
    "\n",
    "from langchain.embeddings import HuggingFaceBgeEmbeddings\n",
    "\n",
    "model_name = \"BAAI/bge-small-en\"\n",
    "model_kwargs = {\"device\": \"cpu\"}\n",
    "encode_kwargs = {\"normalize_embeddings\": True}\n",
    "embeddings = HuggingFaceBgeEmbeddings(\n",
    "    model_name=model_name, model_kwargs=model_kwargs, encode_kwargs=encode_kwargs\n",
    ")"
   ]
  },
  {
   "cell_type": "markdown",
   "metadata": {},
   "source": [
    "### Load Vectors into Chroma DB\n",
    "\n",
    "Here we load the vector embeddings from our documents into the [Chroma DB](https://docs.trychroma.com/getting-started) vector store. Note this could easily be swapped out with something like Pinecone for higher throughput."
   ]
  },
  {
   "cell_type": "code",
   "execution_count": 6,
   "metadata": {},
   "outputs": [
    {
     "data": {
      "text/plain": [
       "8"
      ]
     },
     "execution_count": 6,
     "metadata": {},
     "output_type": "execute_result"
    }
   ],
   "source": [
    "from langchain.vectorstores import Chroma\n",
    "db = Chroma.from_documents(docs, embeddings)\n",
    "\n",
    "len(db.get()['ids'])\n",
    "\n",
    "\n"
   ]
  },
  {
   "cell_type": "markdown",
   "metadata": {},
   "source": [
    "### Query the Vector DB\n",
    "\n",
    "Here we query the locally running instance of Chroma DB. By default we want to return the top 3 results. Increase `k=3` if you would like to return more than 3 of the top results."
   ]
  },
  {
   "cell_type": "code",
   "execution_count": 7,
   "metadata": {},
   "outputs": [
    {
     "data": {
      "text/plain": [
       "[Document(page_content='Jessica Hollowitz — Business Manager responsible for free consultations (sales calls), tutor matching, administration, tutor coordination, etc. Based in Wilmington but working remotely.\\n\\nJea — personal assistant to the owner, based in the Philippines\\n\\nLegal Structure\\n\\nWilmington Tutoring Program LLC is a North Carolina LLC. It will be acquired by a to-be-formed NewCo (also a NC LLC).\\n\\nMarket Research\\n\\nIndustry\\n\\nThe practice of private tutoring long precedes that of formal education.\\n\\nTo this day, the industry remains highly fragmented and relatively unorganized. It comprises of individual tutors, learning centers (often franchised), online tutoring services and online tutor matching portals. The total number of tutors is unknown as it remains in many ways a cottage industry. Concerns about child development have been trending higher despite efforts to improve schools and learning.', metadata={'source': 'docs/bizplan.pdf'}),\n",
       " Document(page_content='Executive Summary\\n\\nProduct Offering\\n\\nWilmington Tutoring Program (WTP) is a premium K-12 private tutoring company with a strong reputation in the Wilmington NC area. Only best-in-class tutors are utilized to deliver the ultimate in personalized learning.\\n\\nCustomers\\n\\nCustomers include private-pay students (70%) and school systems including public districts and private schools (30%). No single customer represents more than 11% of total revenue in 2022 and 2021. Approximately one third of private-pay students suffer from learning disabilities such as ADHD or dyslexia, and almost all of the institutional customers do as well.\\n\\nFuture of the Company\\n\\nSignificant growth opportunity remains in the Wilmington area through ongoing customer referrals/word of mouth driven growth as well as through improved SEO/Google Map pack rankings.', metadata={'source': 'docs/bizplan.pdf'}),\n",
       " Document(page_content='The WTP model is replicable across the US and internationally, particularly in large metropolitan areas with affluent parents. WTP’s well-documented systems and processes and workflow automation using proprietary software means that expansion to other cities will involve only website/SEO/Google Maps presence and tutor hiring, which is currently being done remotely, with virtually no CapEx.\\n\\nCompany Description\\n\\nMission Statement\\n\\nTo equip children to learn and support them in challenging themselves through engaging, effective, and personalized tutoring interventions.\\n\\nPrincipal Members\\n\\nEmily Tobacs — Former Owner, founder, currently operating absentee\\n\\nJohn Gun – New Owner, full-time President responsible for growth, marketing, backing up the business manager in all functions, and geographical expansion', metadata={'source': 'docs/bizplan.pdf'})]"
      ]
     },
     "execution_count": 7,
     "metadata": {},
     "output_type": "execute_result"
    }
   ],
   "source": [
    "query = \"How many employees does wilmington tutoring program have?\"\n",
    "matching_docs = db.similarity_search(query,k=3)\n",
    "\n",
    "matching_docs"
   ]
  }
 ],
 "metadata": {
  "kernelspec": {
   "display_name": "Python 3",
   "language": "python",
   "name": "python3"
  },
  "language_info": {
   "codemirror_mode": {
    "name": "ipython",
    "version": 3
   },
   "file_extension": ".py",
   "mimetype": "text/x-python",
   "name": "python",
   "nbconvert_exporter": "python",
   "pygments_lexer": "ipython3",
   "version": "3.10.13"
  },
  "orig_nbformat": 4
 },
 "nbformat": 4,
 "nbformat_minor": 2
}
